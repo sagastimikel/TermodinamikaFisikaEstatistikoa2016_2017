{
 "cells": [
  {
   "cell_type": "markdown",
   "metadata": {},
   "source": [
    "# Azterketatxoa \n",
    "### Gaiak: 6, Bigarren Printzipioa\n",
    "\n"
   ]
  },
  {
   "cell_type": "markdown",
   "metadata": {},
   "source": []
  },
  {
   "cell_type": "markdown",
   "metadata": {},
   "source": [
    "___________________\n",
    "    kualitatiboak"
   ]
  },
  {
   "cell_type": "markdown",
   "metadata": {
    "run_control": {
     "frozen": false,
     "read_only": false
    }
   },
   "source": [
    "### 1. Ariketa\n",
    "\n",
    "\n",
    "Energia ez-erabligarria.  \n",
    "Dakizun dena. Ondo azalduta.  \n"
   ]
  },
  {
   "cell_type": "markdown",
   "metadata": {},
   "source": [
    "### 2. Ariketa\n",
    "\n",
    "**Azaldu nola ebatziko zenuke ariketa.**  \n",
    "\n",
    "10 eta 15 l-ko gordailuak finkoa, adiabatikoa eta iragaztezina den hormak banandu ditu. Lehenengo gunean SO $_{2}$ gasa sartu dugu: 288 K-ean eta 2 atm-n. Bigarrenean, NO gasa; kasu honetan, 300 K-ean eta 1 atm-n.    \n",
    "\n",
    "1. Diatermano eta higikor bihurtu dugu bereizte-horma.    \n",
    "Lortu sistema osoari dagokion entropia-aldaketa.  \n",
    "2. Hasierako baldintzetatik abiatuz, bereizte-horma bat-batean kendu dugu.    \n",
    "Lortu sistema osoari dagokion entropia-aldaketa.  \n",
    "3. Gordailuetako gasak berdinak izanik, nola aldatuko lirateke aurreko emaitzak? \n",
    "\n",
    "\n",
    "\n"
   ]
  },
  {
   "cell_type": "markdown",
   "metadata": {},
   "source": [
    "___________________\n",
    "    kuantitatiboak"
   ]
  },
  {
   "cell_type": "markdown",
   "metadata": {},
   "source": [
    "### 3. Ariketa\n",
    "\n",
    "\n",
    "Lortu 33 cl-ko garagardo-botila ingurugiroko tenperaturatik (25 $^{\\circ}$ C) 5 $^{\\circ}$ C-ra hozteko behar den lan minimoa; eguratsa da foko erabilgarria.  \n",
    "\n",
    "Onartu garagardoaren $c_{p}$ bero-ahalmena urarenaren berdina dela.  \n",
    "\n",
    "Kalkulatu zenbateko altueratara jaso zenezkeen garagardo-botila, hozteko erabili beharrean jasotzeko erabiliko bazenu lortutako lana.  \n",
    "\n",
    "Errepikatu aurrekoa; baina, kasu honetan, foko erabilgarria 10 $^{\\circ}$ C-an dagoen itsas ura denean.  \n",
    "\n",
    "Eztabaidatu emaitza.\n"
   ]
  },
  {
   "cell_type": "markdown",
   "metadata": {},
   "source": [
    "### 4. Ariketa\n",
    "\n",
    "\n",
    "Esku artean dugun sistemari esleitu zaion egoera-ekuazioa ondokoa da, *van der Waals*-en egoera ekuazioa bera:\n",
    "\n",
    "$$ \\left(p + \\frac{n^{2}}{V^{2}}\\,a\\right)\\,(V - b)  = n\\,R\\,T $$\n",
    "\n",
    "Hauxe da sistemaren hasierako egoera: ($T_{0}\\,$ K, $p_{0}\\,$ atm).  \n",
    "$T_{0}$ K-ean dagoen bero-iturria erabilgarria da eta sistemaren bukaerako egoera honako hau: ($T_{0}\\,$K, $p_{1}\\,$ atm).  \n",
    "\n",
    "Lortu:  \n",
    "1. Prozesuaren ondoriozko sistemaren entropia-aldaketa eta barne-energiaren aldaketa.  \n",
    "2. Egoera biak lotzean atera daitekeen lan maximoa.  \n",
    "\n",
    "Sistemaren $c_{v}$ bero-ahalmena $3\\,R$ da.\n",
    "\n"
   ]
  }
 ],
 "metadata": {
  "anaconda-cloud": {},
  "kernelspec": {
   "display_name": "Python [Root]",
   "language": "python",
   "name": "Python [Root]"
  },
  "language_info": {
   "codemirror_mode": {
    "name": "ipython",
    "version": 2
   },
   "file_extension": ".py",
   "mimetype": "text/x-python",
   "name": "python",
   "nbconvert_exporter": "python",
   "pygments_lexer": "ipython2",
   "version": "2.7.12"
  },
  "latex_envs": {
   "bibliofile": "biblio.bib",
   "cite_by": "apalike",
   "current_citInitial": 1,
   "eqLabelWithNumbers": true,
   "eqNumInitial": 0
  }
 },
 "nbformat": 4,
 "nbformat_minor": 0
}
