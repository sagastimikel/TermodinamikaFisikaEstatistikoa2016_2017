{
 "cells": [
  {
   "cell_type": "markdown",
   "metadata": {
    "run_control": {
     "frozen": false,
     "read_only": false
    }
   },
   "source": [
    "# Oinarrizko ekuazioaren eraikuntza\n",
    "\n",
    "## Zenbait ariketa, adibide\n",
    "\n",
    "\n",
    "\n",
    "\n",
    " \n",
    "\n",
    " \n",
    " "
   ]
  },
  {
   "cell_type": "markdown",
   "metadata": {},
   "source": [
    "\n",
    "\n",
    "\n",
    "Kontuz ibili behar da oinarrizko ekuazioa eraiki behar denean egoera-ekuazioetatik abiatuta.  \n",
    "\n",
    "Egoera-ekuazioek *esango* digute oinarrizko ekuazioaren zer forma, energetikoa edo entropikoa, lortu(behar)ko dugun.  \n",
    "\n",
    "Beraz, ondo erreparatu egoera-ekuazioetan agartzen diren aldagai naturalei, hortxe baitago gakoa."
   ]
  },
  {
   "cell_type": "markdown",
   "metadata": {},
   "source": [
    "## 1. Ariketa\n",
    "\n",
    "$$T = 3\\,A\\,\\frac{s^{2}}{v}$$\n",
    "\n",
    "$$p = A\\,\\frac{s^{3}}{v^{2}}$$ \n",
    "\n"
   ]
  },
  {
   "cell_type": "markdown",
   "metadata": {},
   "source": [
    "## 2. Ariketa\n",
    "\n",
    "\n",
    "$$ U = P\\,V $$  \n",
    "\n",
    "$$ P = B\\,T^{2}$$ \n",
    "\n"
   ]
  },
  {
   "cell_type": "markdown",
   "metadata": {},
   "source": [
    "## 3. Ariketa\n",
    "\n",
    "\n",
    "$$ u = \\frac{3}{2}\\, p\\,v$$  \n",
    "\n",
    "$$ v^{\\frac{1}{2}} = B\\,T\\,v^{\\frac{1}{3}}$$ \n",
    "\n"
   ]
  },
  {
   "cell_type": "markdown",
   "metadata": {},
   "source": [
    "## 4. Ariketa\n",
    "\n",
    "\n",
    "$$ U = \\frac{1}{2}\\, P\\,V$$  \n",
    "\n",
    "$$ T^{2} = A\\, \\frac{U^{\\frac{3}{2}}}{V\\,N^{\\frac{1}{2}}}$$ \n",
    "\n"
   ]
  },
  {
   "cell_type": "markdown",
   "metadata": {},
   "source": [
    "## 5. Ariketa\n",
    "\n",
    "\n",
    "Gas ideala\n"
   ]
  },
  {
   "cell_type": "markdown",
   "metadata": {},
   "source": [
    "## 6. Ariketa\n",
    "\n",
    "\n",
    "\n",
    "van der Waals-en fluidoa\n"
   ]
  }
 ],
 "metadata": {
  "anaconda-cloud": {},
  "kernelspec": {
   "display_name": "Python [Root]",
   "language": "python",
   "name": "Python [Root]"
  },
  "language_info": {
   "codemirror_mode": {
    "name": "ipython",
    "version": 2
   },
   "file_extension": ".py",
   "mimetype": "text/x-python",
   "name": "python",
   "nbconvert_exporter": "python",
   "pygments_lexer": "ipython2",
   "version": "2.7.12"
  },
  "latex_envs": {
   "bibliofile": "biblio.bib",
   "cite_by": "apalike",
   "current_citInitial": 1,
   "eqLabelWithNumbers": true,
   "eqNumInitial": 0
  }
 },
 "nbformat": 4,
 "nbformat_minor": 0
}
