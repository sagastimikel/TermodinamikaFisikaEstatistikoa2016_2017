{
 "cells": [
  {
   "cell_type": "markdown",
   "metadata": {
    "run_control": {
     "frozen": false,
     "read_only": false
    }
   },
   "source": [
    "Lehenengo zatia (2016-11-15)\n",
    "\n",
    "# Oinarrizko ekuazioaren eraikuntza\n",
    "\n",
    "## Zenbait ariketa, adibide\n",
    "\n",
    "\n",
    "\n",
    "\n",
    " \n",
    "\n",
    " \n",
    " "
   ]
  },
  {
   "cell_type": "markdown",
   "metadata": {},
   "source": [
    "\n",
    "\n",
    "\n",
    "Kontuz ibili behar da oinarrizko ekuazioa eraiki behar denean egoera-ekuazioetatik abiatuta.  \n",
    "\n",
    "Egoera-ekuazioek *esango* digute oinarrizko ekuazioaren zer forma, energetikoa edo entropikoa, lortu(behar)ko dugun.  \n",
    "\n",
    "Beraz, ondo erreparatu egoera-ekuazioetan agartzen diren aldagai naturalei, hortxe baitago gakoa."
   ]
  },
  {
   "cell_type": "markdown",
   "metadata": {},
   "source": [
    "## 1. Ariketa\n",
    "\n",
    "$$T = 3\\,A\\,\\frac{s^{2}}{v}$$\n",
    "\n",
    "$$p = A\\,\\frac{s^{3}}{v^{2}}$$ \n",
    "\n"
   ]
  },
  {
   "cell_type": "markdown",
   "metadata": {},
   "source": [
    "## 2. Ariketa\n",
    "\n",
    "\n",
    "$$ U = P\\,V $$  \n",
    "\n",
    "$$ P = B\\,T^{2}$$ \n",
    "\n"
   ]
  },
  {
   "cell_type": "markdown",
   "metadata": {},
   "source": [
    "## 3. Ariketa\n",
    "\n",
    "\n",
    "$$ u = \\frac{3}{2}\\, p\\,v$$  \n",
    "\n",
    "$$ v^{\\frac{1}{2}} = B\\,T\\,v^{\\frac{1}{3}}$$ \n",
    "\n"
   ]
  },
  {
   "cell_type": "markdown",
   "metadata": {},
   "source": [
    "## 4. Ariketa\n",
    "\n",
    "\n",
    "$$ U = \\frac{1}{2}\\, P\\,V$$  \n",
    "\n",
    "$$ T^{2} = A\\, \\frac{U^{\\frac{3}{2}}}{V\\,N^{\\frac{1}{2}}}$$ \n",
    "\n"
   ]
  },
  {
   "cell_type": "markdown",
   "metadata": {},
   "source": [
    "## 5. Ariketa\n",
    "\n",
    "\n",
    "Gas ideala\n"
   ]
  },
  {
   "cell_type": "markdown",
   "metadata": {},
   "source": [
    "## 6. Ariketa\n",
    "\n",
    "\n",
    "\n",
    "van der Waals-en fluidoa\n"
   ]
  },
  {
   "cell_type": "markdown",
   "metadata": {},
   "source": [
    "_____________________________\n",
    "_____________________________"
   ]
  },
  {
   "cell_type": "markdown",
   "metadata": {},
   "source": [
    "Bigarren zatia (2016-11-16)\n",
    "\n",
    "# Oinarrizko ekuazioaren propietateak"
   ]
  },
  {
   "cell_type": "markdown",
   "metadata": {},
   "source": [
    "## 7. Ariketa\n",
    "\n",
    "Zenbait sistema termodinamikori dagokion oinarrizko ekuazioa agertuko da ondoren. Dena den, horietariko bost, II, III eta IV postulatuetatik baten edo gehiagoren aurka dago; eta, ondorioz, fisikoki onartezinak dira. Adieraz itzazu aipatu bostak, eta betegabeko postulatua(k). $v_{0}$, $\\theta$ eta $R$ konstante positiboak dira. Onartu ezazu erro positibo erreala soilik, berredura frakzionarioa ageri den guztietan. (C 1.9.1)  \n",
    "\n",
    "  \n",
    "\n",
    "\n",
    "$$S = \\left( \\frac{R^2}{v_0 \\theta } \\right)^{\\frac{1}{3}} \\left[ {NVU} \\right]^{\\frac{1}{3}}$$\n",
    "\n",
    "$$S = \\left( \\frac{R}{\\theta^2} \\right)^{\\frac{1}{3}} \\left[ \\frac{NU}{V}\\right]^{\\frac{2}{3}}$$\n",
    "\n",
    "$$S = \\left( \\frac{R}{\\theta} \\right)^{\\frac{1}{2}} \\left[ NU - \\frac{R\\theta V^2 }{v_0^2 } \\right]^{\\frac{1}{2}}$$\n",
    "\n",
    "$$S = \\left( \\frac{R^2 \\theta }{v_0^3 } \\right)\\frac{V^3}{NU}$$\n",
    "\n",
    "$$S = \\left( \\frac{R^3 }{v_0\\theta^2} \\right)^{\\frac{1}{5}} \\left[ N^2 VU^2  \\right]^{\\frac{1}{5}}$$\n",
    "\n",
    "$$S = NR\\ln \\left( \\frac{UV}{N^2 R\\theta v_0 } \\right)$$\n",
    "\n",
    "$$S = \\left( \\frac{R}{\\theta } \\right)^{\\frac{1}{2}} \\left[ NU \\right]^{\\frac{1}{2}} \\exp \\left(  - \\frac{V^2}{2N^2 v_0^2} \\right)$$\n",
    "\n",
    "$$S = \\left( \\frac{R}{\\theta} \\right)^{\\frac{1}{2}} \\left[ NU \\right]^{\\frac{1}{2}} \\exp \\left(  - \\frac{UV}{NR\\theta v_0} \\right)$$\n",
    "\n",
    "$$U = \\left( \\frac{v_0\\theta }{R} \\right)\\frac{S^2}{V}\\exp \\left( \\frac{S}{NR} \\right)$$\n",
    "\n",
    "$$U = \\left( \\frac{R\\theta }{v_0} \\right) NV \\left( 1 + \\frac{S}{NR} \\right)\\exp \\left(  - \\frac{S}{NR} \\right)  $$      \n"
   ]
  },
  {
   "cell_type": "markdown",
   "metadata": {},
   "source": [
    "## 8. Ariketa\n",
    "\n",
    "Lortu $U$ barne-energia $S$, $V$ eta $N$ aldagaien funtzioan, aurrreko ariketako fisikoki onargarriak diren oinarrizko ekuazioen kasuetarako.  \n",
    "(C 1.9.2)\n",
    "\n",
    "\n",
    "\n"
   ]
  },
  {
   "cell_type": "markdown",
   "metadata": {},
   "source": [
    "## 9. Ariketa\n",
    "\n",
    "A sistemaren oinarrizko ekuazioa honako hau da:  \n",
    "\n",
    "$$S_A  = \\left( \\frac{R^2}{v_0 \\theta} \\right)^{\\frac{1}{3}} \\left[ N_A V_A U_A  \\right]^{\\frac{1}{3}}$$ \n",
    " \n",
    "B sistemarena, berriz:  \n",
    "\n",
    "$$S_B  = \\left( \\frac{R^2}{v_0 \\theta} \\right)^{\\frac{1}{3}} \\left[ N_B V_B U_B \\right]^{\\frac{1}{3}}$$\n",
    " \n",
    "Zein da A + B sistema konposatuari dagokion oinarrizko ekuazioa?   \n",
    "(C 1.9.3)\n",
    "\n",
    "\n",
    "\n"
   ]
  },
  {
   "cell_type": "markdown",
   "metadata": {},
   "source": [
    "## 10. Ariketa\n",
    "\n",
    "Onartu aurreko ariketan deskribatutako A eta B azpisistemen arteko bereizte-horma finkoa, iragaztezina eta energia trukatzen utziko duena dela. Modu berean, demagun A sistemaren bolumena 3 cm$^3$ dela, eta mol-kopurua 3. B sistemaren kasuan, bolumena 4 cm$^3$ da eta mol-kopurua, 2.   \n",
    "\n",
    "Sistema konposatuaren energia osoa 20 cal da. Adieraz ezazu entropia A sistemari dagokion $\\frac{U_{A}}{(U_{A}+U_{B})}$ energia-frakzioaren funtzioan.   \n",
    "\n",
    "Zenbatekoa da azpisistema bakoitzari dagokion barne-energia sistemak oreka lortu duen kasurako?   \n",
    "(C 1.9.4)\n",
    "\n",
    "\n",
    "\n"
   ]
  },
  {
   "cell_type": "markdown",
   "metadata": {},
   "source": [
    "## 11. Ariketa\n",
    "\n",
    "Lortu ondoko oinarrizko ekuazioko sistemari dagozkion hiru egoera-ekuazioak.   \n",
    "(C 2.2.1)\n",
    "\n",
    "$$U = \\left( \\frac{v_0 \\theta}{R^2} \\right)\\frac{S^3}{NV}$$\n",
    " \n",
    "\n"
   ]
  },
  {
   "cell_type": "markdown",
   "metadata": {},
   "source": [
    "## 12. Ariketa\n",
    "\n",
    "Lortu aurreko sistemari dagokion $\\mu$ potentzial kimikoa; adieraz ezazu emaitza $T$, $V$ eta $N$ parametroen funtzioan.   \n",
    "(C 2.2.2)\n",
    "\n",
    "\n"
   ]
  },
  {
   "cell_type": "markdown",
   "metadata": {},
   "source": [
    "## 13. Ariketa\n",
    "\n",
    "Lortu aurreko sistemaren kasuan, eta tenperatura finkoa denean, presioak bolumenarekiko duen mendekotasuna, hautazkoa den eskalako diagraman.  Irudikatu bi tenperatura desberdini dagozkion lerro isotermanoak eta adieraz ezazu zein den bietatik tenperatura handienari dagokiona.   \n",
    "(C 2.2.3)\n",
    "\n"
   ]
  },
  {
   "cell_type": "markdown",
   "metadata": {},
   "source": [
    "## 14. Ariketa\n",
    "\n",
    "Lortu ondoko oinarrizko ekuazioko sistemari dagozkion hiru egoera-ekuazioak.   \n",
    "(C 2.2.4)\n",
    "\n",
    "$$u = \\left( \\frac{\\theta }{R} \\right)s^2  - \\left( \\frac{R\\theta}{v_0^2} \\right)v^2$$\n",
    "\n",
    "\n"
   ]
  },
  {
   "cell_type": "markdown",
   "metadata": {},
   "source": [
    "## 15. Ariketa\n",
    "\n",
    "Lortu aurreko sistemari dagokion $\\mu$ potentzial kimikoa; adieraz ezazu emaitza $T$ eta $p$ parametroen funtzioan.  \n",
    "(C 2.2.5)\n",
    "\n",
    "\n"
   ]
  },
  {
   "cell_type": "markdown",
   "metadata": {},
   "source": [
    "## 16. Ariketa\n",
    "\n",
    "Lortu ondoko oinarrizko ekuazioko sistemari dagozkion hiru egoera-ekuazioak.  \n",
    "(C 2.2.6)\n",
    "\n",
    "$$u = \\left(\\frac{v_0\\theta}{R}\\right)\\frac{s^2}{v}\\exp \\left(\\frac{s}{R}\\right)$$\n",
    " \n",
    "\n"
   ]
  },
  {
   "cell_type": "markdown",
   "metadata": {},
   "source": [
    "## 17. Ariketa\n",
    "\n",
    "Adieraz ezazu eskematikoki, aurreko ariketako sistemaren kasuan, kuasiestatikoa den espantsio adiabatikoan zehar ($dS=0$), tenperaturak bolumenarekiko duen mendekotasuna.   \n",
    "(C 2.2.7)\n",
    "\n",
    "\n"
   ]
  },
  {
   "cell_type": "markdown",
   "metadata": {},
   "source": [
    "## 18. Ariketa\n",
    "\n",
    "Lortu, adierazpen entropikoan, ondoko oinarrizko ekuazioko sistemari dagozkion hiru egoera-ekuazioak.   \n",
    "(C 2.3.1)\n",
    "\n",
    "$$u = \\left( \\frac{v_o^{\\frac{1}{2}}\\theta}{R^{\\frac{3}{2}}} \\right)\\frac{s^{\\frac{5}{2}}}{v^{\\frac{1}{2}}}$$\n",
    " \n",
    "\n",
    "\n"
   ]
  },
  {
   "cell_type": "markdown",
   "metadata": {},
   "source": [
    "## 19. Ariketa\n",
    "\n",
    "Lortu aurreko sistemaren kasuan, eta presioa finkoa den kasuan, tenperaturak bolumenarekiko duen mendekotasuna, hautazkoa den eskalako diagraman. Irudikatu itzazu bi presio desberdini dagozkion lerro isobaroak eta adierazi zein den bietatik presio handienari dagokiona.   \n",
    "(C 2.3.2)\n",
    "\n",
    "\n"
   ]
  },
  {
   "cell_type": "markdown",
   "metadata": {},
   "source": [
    "## 20. Ariketa\n",
    "\n",
    "Lortu, adierazpen entropikoan, ondoko oinarrizko ekuazioko sistemari dagozkion hiru egoera-ekuazioak:   \n",
    "(C 2.3.3)\n",
    "\n",
    "$$u = \\left( \\frac{\\theta}{R} \\right)s^2 \\exp \\left( \\frac{v^2 }{v_0^2} \\right) $$\n",
    " \n",
    "\n",
    "Bi osagaiko sistemari dagokion oinarrizko ekuazioa ondokoa da,  \n",
    " \n",
    "$$S = NA + NR\\ln \\left( \\frac{U^{\\frac{3}{2}} V}{N^{\\frac{5}{2}}} \\right) - N_1 R\\ln \\left( \\frac{N_1}{N} \\right) - N_2 R\\ln \\left( \\frac{N_2}{N} \\right)$$\n",
    " \n",
    "$$N \\equiv N_1  + N_2$$\n",
    "  \n",
    "non $R=1.986$ cal/mol K den, eta $A$ finkatugabeko konstantea. Lehenengo osagaiarekiko iragazkorra baina bigarrenarekiko ez den mintz diatermanoak bi gunetan zatitu du 10 l-ko bolumeneko eta itxita dagoen zilindro zurruna. Lehenengo gunean ondoko parametroez ezaugarritutako lagina kokatu da: $N_{1}^{(1)}  = 0.5$, $N_{2}^{(1)}  = 0.75$, $V^{(1)}  = 5$ l eta $T^{(1)}  = 300$ K. Bigarrenean, berriz, ondokoen bidez: $N_{1}^{(2)}  = 1$, $N_{2}^{(2)}  = 0.5$, $V^{(2)}  = 5$ l eta $T^{(2)}  = 250$ K. Oreka lortutakoan, zein dira $N_{1}^{(1)}$, $N_{1}^{(2)}$, $T$, $p^{(1)}$ eta $p^{(2)}$ parametroen balioak?   \n",
    "(C 2.8.1)\n",
    "\n",
    "\n",
    "He gasa duen gordailuak 1000 l-ko bolumenekoa da. Gasa 0.5 atm-n eta 20 $^{\\circ}$C-ko tenperaraturan dago. Bolumen berdineko bigarren gordailuan dagoen He gasa 1 atm-n eta 80 $^{\\circ}$C-ko tenperaturan dago. Gordailu biak loturik dituen balbula ireki da. Demagun gasa monoatomikoa eta ideala dela, eta gordailuen hormak finkoak eta adiabatikoak. Lortu sistemari dagozkion amaierako tenperatura eta presioa. (Kontura zaitez energia osoa konstantea dela.)   \n",
    "(C 3.4.4)\n",
    "\n",
    "\n",
    "\n"
   ]
  },
  {
   "cell_type": "markdown",
   "metadata": {},
   "source": [
    "## 21. Ariketa\n",
    "\n",
    "Bi sistemari dagozkion egoera-ekuazioak ondokoak dira,\n",
    "\n",
    "$$\\frac{1}{T^{(1)}} = \\frac{3}{2}R\\frac{N^{(1)}}{U^{(1)}}$$\n",
    "\n",
    "$$\\frac{1}{T^{(2)}} = \\frac{5}{2}R\\frac{N^{(2)}}{U^{(2)}}$$\n",
    "  \n",
    "non $R=1.986$ cal/mol K balioko konstantea den. Lehenengo sistemaren mol-kopurua $N^{(1)}  = 2$ da, eta bigarrenarena $N^{(2)}  = 3$. Sistema horiek diatermanoa den bereizte-hormak banatu ditu. Sistema konposatuaren energia 6000 cal da. Oreka lortutakoan, zenbatekoa da sistema bakoitzari dagokion barne-energia?   \n",
    "(C 2.6.3)\n",
    "\n"
   ]
  },
  {
   "cell_type": "markdown",
   "metadata": {},
   "source": [
    "## 22. Ariketa\n",
    "\n",
    "Aurreko ariketako azpisistemak, diatermanoa den bereizte-hormaren bidez banatuta daude. Mol kopuruen balioak ondokoak dira: $N^{(1)}  = 2$ eta $N^{(2)}  = 3$. Hasierako tenperaturak $T^{(1)}  = 250$ K eta $T^{(2)}  = 350$ K dira. Oreka lortutakoan, zein dira $U^{(1)}$ eta $U^{(2)}$ parametroen balioak ? Zein da oreka-tenperatura?   \n",
    "(C 2.6.4)\n",
    "\n",
    "\n",
    "\n"
   ]
  },
  {
   "cell_type": "markdown",
   "metadata": {},
   "source": [
    "## 23. Ariketa\n",
    "\n",
    "Bi sistemari dagozkion egoera-ekuazioak ondokoak dira,  \n",
    "\n",
    "$$\\left(\\frac{1}{T}\\right)^{(1)} = \\frac{3}{2}R\\frac{N^{(1)}}{U^{(1)}}$$\n",
    "$$\\left(\\frac{p}{T}\\right)^{(1)} = R\\frac{N^{(1)}}{V^{(1)}}$$\n",
    "\n",
    "eta  \n",
    "\n",
    " \n",
    "$$\\left(\\frac{1}{T}\\right)^{(2)} = \\frac{5}{2}R\\frac{N^{(2)}}{U^{(2)}}$$\n",
    "$$\\left(\\frac{p}{T}\\right)^{(2)} = R\\frac{N^{(2)}}{V^{(2)}}$$\n",
    "\n",
    "\n",
    "non $R=1.986$ cal/mol K den. $N^{(1)}  = 0.5$ eta $N^{(2)}  = 0.75$ dira. Sistema biak isolaturiko zilindroaren barnean daude, higikorra den pistoi isotermanoak banandurik. Hasierako tenperaturak $T^{(1)}  = 200$ K eta $T^{(2)}  = 300$ K dira, eta bolumen osoa 20 l. Oreka lortutakoan, zein dira sistema bakoitzari dagozkion energia eta bolumena? Zein dira presioa eta tenperatura?    \n",
    "(C 2.7.1)"
   ]
  },
  {
   "cell_type": "markdown",
   "metadata": {},
   "source": [
    "_________________\n",
    "_________________"
   ]
  },
  {
   "cell_type": "markdown",
   "metadata": {},
   "source": [
    "Hirugarren zatia (2016-11-22)\n",
    "\n",
    "# Kalkulu termodinamikoa"
   ]
  },
  {
   "cell_type": "markdown",
   "metadata": {},
   "source": [
    "## 24. Ariketa\n",
    "\n",
    "\n",
    "\n",
    "Lortu $\\left( \\frac{\\partial T}{\\partial v} \\right)_h$ koefizientearen adierazpena, ($C_{p}$, $\\alpha$, $\\kappa_{T}$) sortaren funtzioan.  \n",
    "(C 7.4.1)\n",
    "\n",
    "\n"
   ]
  },
  {
   "cell_type": "markdown",
   "metadata": {},
   "source": [
    "## 25. Ariketa\n",
    "\n",
    "\n",
    "Esku artean dugun gas errealaren bi molek 100 K-eko tenperaturan eta 2 MPa-eko presioan litro bateko gordailua bete dute. 10 cm$^3$-ko balioko bolumenera era askean espantsiona dadila utzi diogu gasari. Lortu entalpia-aldaketa.\n",
    "Hasierako egoerari dagozkion datuak honako hauek dira: $C_{p}=0,8$ J/mol K, $\\kappa_{T}=3\\times10^6$ Pa$^{-1}$ eta $\\alpha=0,002$ K$^{-1}$.  \n",
    "(C 7.4.6)\n",
    "\n",
    "\n"
   ]
  },
  {
   "cell_type": "markdown",
   "metadata": {},
   "source": [
    "## 26. Ariketa\n",
    "\n",
    "\n",
    "Frogatu ondoko berdintza beteko dela, eta lortu horri dagokion adierazpena \\textit{van der Waals}-en gasaren kasurako:  \n",
    "(C 7.4.7)\n",
    "\n",
    "\n",
    "$$\n",
    "\\left( \\frac{\\partial c_v }{\\partial v} \\right)_T  = T\\left( \\frac{\\partial^2 p}{\\partial T^2} \\right)_v\n",
    "$$\n",
    "\n",
    "\n",
    " \n"
   ]
  },
  {
   "cell_type": "markdown",
   "metadata": {},
   "source": [
    "## 27. Ariketa\n",
    "\n",
    "\n",
    "Frogatu ondoko berdintza beteko dela:\n",
    "\n",
    "\n",
    "$$\n",
    "\\left( \\frac{\\partial c_p }{\\partial p} \\right)_T  =  - Tv\\left[ {\\alpha ^2  + \\left( \\frac{\\partial \\alpha}{\\partial T} \\right)_p} \\right]\n",
    "$$\n",
    "\n",
    " \n",
    "Lortu berdintza horri dagokion adierazpena ondoko egoera-ekuazioa beteko duen sistemaren kasurako:   \n",
    "(C 7.4.8)\n",
    " \n",
    "\n",
    "$$\n",
    "p\\left( v + \\frac{A}{T^2} \\right) = RT\n",
    "$$\n",
    "\n",
    " \n",
    "  \n"
   ]
  },
  {
   "cell_type": "markdown",
   "metadata": {},
   "source": [
    "## 28. Ariketa\n",
    "\n",
    "\n",
    "Aurreko ariketako mol bati $p_{0}$ hasierako presiotik $p_{f}$ bukaerako presiorainoko espantsio isotermoa eragin diogu. Lortu prozesuan sistemak trukatu duen bero kantitatea.  \n",
    "(C 7.4.9)\n",
    "\n"
   ]
  },
  {
   "cell_type": "markdown",
   "metadata": {},
   "source": [
    "## 29. Ariketa\n",
    "\n",
    "\n",
    "Esku artean dugun sistemaren kasuan ezagunak dira ondoko bi propietate hauek:\n",
    "\n",
    "\n",
    "$$C_{V}=AT^3$$\n",
    "\n",
    "$$(v-v_{0})p=B(T)$$\n",
    "\n",
    " \n",
    "non $A$ konstantea den eta $B(T)$ tenperaturaren funtzio ezezaguna. Eztabaidatu zer forma har dezakeen $B(T)$ funtzioak. Lortu ($C_{p}$, $\\alpha$, $\\kappa_{T}$) sortakoak, $T$-ren eta $v$-ren funtzioan.\n",
    "Laguntza: aztertu $\\left( \\frac{\\partial^2 s}{\\partial T\\partial v} \\right)$ deribatua.  \n",
    "(C 7.4.22)\n",
    "\n",
    "\n"
   ]
  },
  {
   "cell_type": "markdown",
   "metadata": {},
   "source": [
    "## 30. Ariketa\n",
    "\n",
    "\n",
    "*van der Waals*-en egoera-ekuazioa esleitu zaion 1 mol-eko sistemari $v_{0}$ hasierako bolumenetik $v_{f}$ bukaerako bolumenerako espantsio isotermoa eragin diogu. Lortu prozesuan trukaturiko bero kantitatea.  \n",
    "(C 7.4.10)\n",
    "\n",
    "\n"
   ]
  },
  {
   "cell_type": "markdown",
   "metadata": {},
   "source": [
    "## 31. Ariketa\n",
    "\n",
    "\n",
    "Esku artean dugun oxigenoaren bi molak 0 $^{\\circ}$C-ko tenperaturan eta 10$^5$ Pa-eko presioan daude. Konpresio adiabatikoaren bidez bukaerako tenperatura 300 $^{\\circ}$C-ko balioraino eraman da. Lortu bukaerako presioaren balioa ondoko ekuazioa integratuz:  \n",
    "\n",
    "$$\n",
    "dT = \\frac{Tv\\alpha}{c_p}dp\n",
    "$$\n",
    "\n",
    " \n",
    "Onartu ondoko bero-ahalmeneko gas ideala dela oxigenoa:   \n",
    "(C 7.4.11)\n",
    "\n",
    "$$\n",
    "c_p  = 26.20 + 11.49 \\times 10^{-3} T - 3.223 \\times 10^{-6} T^2\n",
    "$$\n",
    " \n",
    "\n",
    "\n"
   ]
  },
  {
   "cell_type": "markdown",
   "metadata": {},
   "source": [
    "## 32. Ariketa\n",
    "\n",
    "\n",
    "Erraztu honako adierazpen hau:\n",
    "\n",
    "$$\n",
    "\\left( \\frac{\\partial u}{\\partial p} \\right)_h \n",
    "$$  \n",
    "(C 7.4.13)\n",
    "\n",
    "\n"
   ]
  },
  {
   "cell_type": "markdown",
   "metadata": {},
   "source": [
    "## 33 Ariketa\n",
    "\n",
    "\n",
    "Espantsio askearen ondorioz esku artean dugun gasaren tenperatura-aldaketa $dT$ da.  \n",
    "Lortu presio-aldaketa.   \n",
    "(C 7.4.14)\n",
    "\n",
    "\n"
   ]
  },
  {
   "cell_type": "markdown",
   "metadata": {},
   "source": [
    "## 34. Ariketa\n",
    "\n",
    "\n",
    "Esku artean *van der Waals*-en fluidoaren 1 mol dugu: $T_{i}$ tenperaturan, eta $V_{i}$ bolumena betez. Balbula bat irekiz gasa dagoen gordailua hasieran hutsik zegoen beste gordailu batekin konektatu dugu, gasa $V_{f}$ bolumen osora hedatuz. Gordailuen hormak adiabatikoak dira. Lortu $T_{f}$ bukaerako tenperatura.  \n",
    "(C 7.4.15)\n",
    "\n",
    "\n"
   ]
  },
  {
   "cell_type": "markdown",
   "metadata": {},
   "source": [
    "## 35. Ariketa\n",
    "\n",
    "\n",
    "Ebatz ezazu aurreko ariketa berbera; baina, kasu honetan, espantsioa adiabatikoa izateaz gain kuasiestatikoa dela onartuz.  \n",
    "(C 7.4.16)\n",
    "\n",
    "\n"
   ]
  },
  {
   "cell_type": "markdown",
   "metadata": {},
   "source": [
    "## 36. Ariketa\n",
    "\n",
    "\n",
    "Bolumenaren $\\% 1$-eko beherakuntza adiabatikoak aldaketa jakina eragin du $\\mu$ potentzial kimikoaren gainean. Zein bolumen-portzentajek izango du eragin berbera beherakuntza isotermoa bada?  \n",
    "(C 7.4.17)\n",
    "\n",
    "\n"
   ]
  },
  {
   "cell_type": "markdown",
   "metadata": {},
   "source": [
    "## 37. Ariketa\n",
    "\n",
    "Helio gasa erabiliz beteriko zilindroa pistoi batek itxi du. Zilindroaren aldeko horma adiabatikoa, higiezina eta helioarekiko iragaztezina da. Zilindroaren beheko aldea, berriz, isotermoa, higiezina eta helioarekiko iragazkorra da. Horma horren bidez, zilindroa $T$ tenperaturako bero-iturriarekin eta $\\mu_{He}$ potentzial kimikoko materia-iturriarekin ukipenean dago. Lortu sistemaren ($-\\frac{1}{V}\\frac{dV}{dp}$) konpresibilitatea; frogatu konpresibilitateak dibergentzia izango duela. Zein da dibergentzia horren jatorri fisikoa?  \n",
    "(C 7.4.18)\n",
    "\n",
    "\n",
    "\n"
   ]
  },
  {
   "cell_type": "markdown",
   "metadata": {},
   "source": [
    "## 38. Ariketa\n",
    "\n",
    "Aurreko ariketako zinlindroa Ne gasa erabiliz bete dugu: $\\frac{1}{10}$ mol sartuz. Zilindroaren beheko horma ez da neonarekiko iragazkorra. Lortu zilindroko presioaren balioa eta sistemaren konpresibilitatea.  \n",
    "(C 7.4.19)\n",
    "\n",
    "\n",
    "\n"
   ]
  },
  {
   "cell_type": "markdown",
   "metadata": {},
   "source": [
    "## 39. Ariketa\n",
    "\n",
    "\n",
    "Esku artean substantzia baten mol bakarra dugu. $p/V$ diagramako A eta B puntuak $pv^2  = {\\rm{konstantea}}$ lerroko puntuak dira. Aipatutako lerroan zehar ezagunak dira sistemaren ondoko ezaugarriak: $C_p  = Cv^2$, $\\alpha  = \\frac{D}{v}$ eta $\\kappa _T  = Ev$. $C$, $D$ eta $E$ konstanteak dira. Lortu $T_{B}$ tenperatura ($T_{A}$, $p_{A}$, $v_{A}$, $v_{B}$, $C$, $D$, $E$) sortaren funtzioan.  \n",
    "(C 7.4.20)\n",
    "\n",
    "\n"
   ]
  },
  {
   "cell_type": "markdown",
   "metadata": {},
   "source": [
    "## 40. Ariketa\n",
    "\n",
    "\n",
    "Esku artean substantzia baten mol bakarra dugu. $p/V$ diagramako A eta B puntuak $pv  = {\\rm{konstantea}}$ lerroko puntuak dira. Aipatu lerroan zehar ezagunak dira sistemaren ondoko ezaugarriak: $C_p  = Cv$, $\\alpha  = \\frac{D}{v^2}$ eta $\\kappa _T  = Ev$. $C$, $D$ eta $E$ konstanteak dira. Lortu ($u_{A}-u_{B}$) kendura ($T_{A}$, $p_{A}$, $v_{A}$, $v_{B}$, $C$, $D$, $E$) sortaren funtzioan.  \n",
    "(C 7.4.21)\n",
    "\n",
    "\n"
   ]
  },
  {
   "cell_type": "markdown",
   "metadata": {},
   "source": [
    "## 41. Ariketa\n",
    "\n",
    "\n",
    "Esku artean dugun sistemaren kasuan, $p/v$ diagramako lerro zuzenean zeharreko espantsioak ($p_{0}$, $v_{0}$) eta ($p_{f}$, $v_{f}$) egoerak lotu ditu. ($c_{p}$, $\\alpha$, $\\kappa_{T}$) sortako parametroak $v=v_{0}$ lerro isokoroan zehar eta $p=p_{f}$ lerro isobaroan zehar soilik ezagunak dira; $\\frac{c_v \\kappa _T}{\\alpha } = Ap$   $(v = v_0)$, $\\frac{c_p}{v\\alpha} = Bv$   $(p = p_f)$.  \n",
    "Lortu prozesuan trukaturiko beroa.  \n",
    "(C 7.4.23)\n"
   ]
  },
  {
   "cell_type": "markdown",
   "metadata": {},
   "source": [
    "## 42. Ariketa\n",
    "\n",
    "Aztertuko dugun sistema alboko irudian ageri da; 1 eta 2 zilindroek osatu dute. Irudian ikus daitekeenez, lehenengoa bigarrenaren barnean higi daiteke. Bien artean ez dago marruskadurarik. Marrazturiko hormak adiabatikoak dira eta besteak, aldiz, diatermanoak. Hasiera batean sistema osoa oreka-egoeran dago. 1 zilindroa $T$ tenperaturako eta $p$ presioko iturriarekin ukipenean jarri dugu. Efizientzia maximoko punpa dugu, zeinak eskura dugun iturritik beroa ateraz, 1 zilindrotik ateratako bero osoa 2 zilindroari emango dion. Prozesu horrek iturriarekiko oreka lortu arte iraungo du. Lortu:  \n",
    "\n",
    "\n",
    "  - zilindroen bukaerako tenperaturak eta 2 zilindroaren bukaerako bolumena,\n",
    "  - bi sistemetako entropia-aldaketak,\n",
    "  - punpak egindako lana eta\n",
    "  - inguruneari dagokion entropia-aldaketa.\n",
    "  - Eztabaidatu kualitatiboki zenbatekoa izango den sistema osoaren entropia-aldaketa.\n",
    "\n",
    "\n",
    "\n"
   ]
  },
  {
   "cell_type": "markdown",
   "metadata": {},
   "source": [
    "––––––––––––––––––––––––––––––––––––––––––––––––\n",
    "\n",
    "Laugarren zatia (2016-11-24)\n",
    "\n",
    "# Kalkulu termodinamikoa..."
   ]
  },
  {
   "cell_type": "markdown",
   "metadata": {},
   "source": [
    "## 43. Ariketa\n",
    "\n",
    "Aztertu beharreko sistema honako hau da: $V$ bolumeneko tangan dauden, $T\\approx0$ K tenperaturan, $s=frac{1}{2}$ spineko partikulak (esaterako, metaletako tenperatura txikietako elektroiz osatutako gas ideala).  \n",
    "\n",
    "Sistemari dagokion oinarrizko ekuazioa honako hau da:  \n",
    "\n",
    "$$ U = \\frac{3}{5}\\, A\\, N^{\\frac{3}{5}}\\, V^{-\\frac{2}{5}}\\,\\left[ 1 + \\frac{5}{3}\\,\\left(\\frac{S}{\\pi\\,N\\,R}\\right)^{2} \\right] $$\n",
    "\n",
    "$A$ da konstante positiboa.  \n",
    "\n",
    "Lortu honako hauek:  \n",
    "\n",
    "- $F$ potentzial termodinamikoa\n",
    "- $p$ presioa, ($S, V$) eta ($T, V$) aldagai-sorten funtzioan\n",
    "- $C_{V}$ bolumen konstanteko bero-ahalmena"
   ]
  },
  {
   "cell_type": "markdown",
   "metadata": {},
   "source": [
    "## 44. Ariketa\n",
    "\n",
    "Aztertu beharreko sistemari dgokion oinarrizko ekuazioa honako hau da:\n",
    "\n",
    "$$ F = - A\\, N^{\\frac{2}{3}}\\,V^{\\frac{1}{3}}\\,T^{2} $$\n",
    "\n",
    "$A$ konstante positiboa da.  \n",
    "\n",
    "Sistemaren bolumena zortzi aldiz handitu dion zabaltze adiabatiko itzulgarriaren ondorioz, zenbatekoa da tenperatura-aldaketa?"
   ]
  },
  {
   "cell_type": "markdown",
   "metadata": {},
   "source": [
    "## 45. Ariketa\n",
    "\n",
    "Erraztu honako adierazpen hau:\n",
    "\n",
    "$$ \\left(\\frac{\\partial T}{\\partial p}\\right)_{H} $$\n",
    "\n",
    "Koefiziente horri *Joule-ren eta Kelvin-en* koefiziente deritzo, $\\mu_{J-K}$."
   ]
  },
  {
   "cell_type": "code",
   "execution_count": 8,
   "metadata": {
    "collapsed": false,
    "hide_input": false,
    "run_control": {
     "frozen": false,
     "read_only": false
    }
   },
   "outputs": [
    {
     "data": {
      "text/html": [
       "<link href='http://fonts.googleapis.com/css?family=Fenix' rel='stylesheet' type='text/css'>\n",
       "<link href='http://fonts.googleapis.com/css?family=Alegreya+Sans:100,300,400,500,700,800,900,100italic,300italic,400italic,500italic,700italic,800italic,900italic' rel='stylesheet' type='text/css'>\n",
       "<link href='http://fonts.googleapis.com/css?family=Source+Code+Pro:300,400' rel='stylesheet' type='text/css'>\n",
       "<style>\n",
       "\n",
       "@font-face {\n",
       "    font-family: \"Computer Modern\";\n",
       "    src: url('http://mirrors.ctan.org/fonts/cm-unicode/fonts/otf/cmunss.otf');\n",
       "}\n",
       "\n",
       "\n",
       "#notebook_panel { /* main background */\n",
       "    background: rgb(245,245,245);\n",
       "}\n",
       "\n",
       "div.cell { /* set cell width */\n",
       "    width: 950px;/* 750 original */\n",
       "}\n",
       "\n",
       "div #notebook { /* centre the content */\n",
       "    background: #fff; /* white background for content */\n",
       "    width: 1200px;/* 1000 original */\n",
       "    margin: auto;\n",
       "    padding-left: 0em;\n",
       "}\n",
       "\n",
       "#notebook li { /* More space between bullet points */\n",
       "margin-top:0.8em;\n",
       "}\n",
       "\n",
       "/* draw border around running cells */\n",
       "div.cell.border-box-sizing.code_cell.running { \n",
       "    border: 1px solid #111;\n",
       "}\n",
       "\n",
       "/* Put a solid color box around each cell and its output, visually linking them*/\n",
       "div.cell.code_cell {\n",
       "    background-color: rgb(256,256,256); \n",
       "    border-radius: 0px; \n",
       "    padding: 0.5em;\n",
       "    margin-left:1em;\n",
       "    margin-top: 1em;\n",
       "}\n",
       "\n",
       "div.text_cell_render{\n",
       "    background-color: rgb(256,256,256); \n",
       "    font-family: 'Alegreya Sans' sans-serif;\n",
       "    line-height: 140%;\n",
       "    font-size: 125%;\n",
       "    font-weight: 400;\n",
       "    width:750px;/* 600 original */\n",
       "    margin-left:auto;\n",
       "    margin-right:auto;\n",
       "}\n",
       "\n",
       "/* Formatting for header cells */\n",
       ".text_cell_render h1 {\n",
       "    font-family: 'Alegreya Sans', sans-serif;\n",
       "    font-style:regular;\n",
       "    font-weight: 200;    \n",
       "    font-size: 50pt;\n",
       "    line-height: 100%;\n",
       "    color:#CD2305;\n",
       "    margin-bottom: 0.5em;\n",
       "    margin-top: 0.5em;\n",
       "    display: block;\n",
       "}\t\n",
       ".text_cell_render h2 {\n",
       "    font-family: 'Fenix', serif;\n",
       "    font-size: 22pt;\n",
       "    line-height: 100%;\n",
       "    margin-bottom: 0.1em;\n",
       "    margin-top: 0.3em;\n",
       "    display: block;\n",
       "}\t\n",
       "\n",
       ".text_cell_render h3 {\n",
       "    font-family: 'Fenix', serif;\n",
       "    margin-top:12px;\n",
       "\tfont-size: 16pt;\n",
       "    margin-bottom: 3px;\n",
       "    font-style: regular;\n",
       "}\n",
       "\n",
       ".text_cell_render h4 {    /*Use this for captions*/\n",
       "    font-family: 'Fenix', serif;\n",
       "    font-size: 2pt;\n",
       "    text-align: center;\n",
       "    margin-top: 0em;\n",
       "    margin-bottom: 2em;\n",
       "    font-style: regular;\n",
       "}\n",
       "\n",
       ".text_cell_render h5 {  /*Use this for small titles*/\n",
       "    font-family: 'Alegreya Sans', sans-serif;\n",
       "    font-weight: 300;\n",
       "    font-size: 16pt;\n",
       "    color: #CD2305;\n",
       "    font-style: italic;\n",
       "    margin-bottom: .5em;\n",
       "    margin-top: 0.5em;\n",
       "    display: block;\n",
       "}\n",
       "\n",
       ".text_cell_render h6 { /*use this for copyright note*/\n",
       "    font-family: 'Source Code Pro', sans-serif;\n",
       "    font-weight: 300;\n",
       "    font-size: 9pt;\n",
       "    line-height: 100%;\n",
       "    color: grey;\n",
       "    margin-bottom: 1px;\n",
       "    margin-top: 1px;\n",
       "}\n",
       "\n",
       "    .CodeMirror{\n",
       "            font-family: \"Source Code Pro\";\n",
       "\t\t\tfont-size: 90%;\n",
       "    }\n",
       "/*    .prompt{\n",
       "        display: None;\n",
       "    }*/\n",
       "\t\n",
       "    \n",
       "    .warning{\n",
       "        color: rgb( 240, 20, 20 )\n",
       "        }  \n",
       "</style>\n",
       "<script>\n",
       "    MathJax.Hub.Config({\n",
       "                        TeX: {\n",
       "                           extensions: [\"AMSmath.js\"], \n",
       "                           equationNumbers: { autoNumber: \"AMS\", useLabelIds: true}\n",
       "                           },\n",
       "                tex2jax: {\n",
       "                    inlineMath: [ ['$','$'], [\"\\\\(\",\"\\\\)\"] ],\n",
       "                    displayMath: [ ['$$','$$'], [\"\\\\[\",\"\\\\]\"] ]\n",
       "                },\n",
       "                displayAlign: 'center', // Change this to 'center' to center equations.\n",
       "                \"HTML-CSS\": {\n",
       "                    styles: {'.MathJax_Display': {\"margin\": 4}}\n",
       "                }\n",
       "        });\n",
       "</script>"
      ],
      "text/plain": [
       "<IPython.core.display.HTML object>"
      ]
     },
     "execution_count": 8,
     "metadata": {},
     "output_type": "execute_result"
    }
   ],
   "source": [
    "from IPython.core.display import HTML\n",
    "def css_styling():\n",
    "    styles = open('styles/custom.css', 'r').read()\n",
    "    return HTML(styles)\n",
    "css_styling()"
   ]
  }
 ],
 "metadata": {
  "anaconda-cloud": {},
  "kernelspec": {
   "display_name": "Python [Root]",
   "language": "python",
   "name": "Python [Root]"
  },
  "language_info": {
   "codemirror_mode": {
    "name": "ipython",
    "version": 2
   },
   "file_extension": ".py",
   "mimetype": "text/x-python",
   "name": "python",
   "nbconvert_exporter": "python",
   "pygments_lexer": "ipython2",
   "version": "2.7.12"
  },
  "latex_envs": {
   "bibliofile": "biblio.bib",
   "cite_by": "apalike",
   "current_citInitial": 1,
   "eqLabelWithNumbers": true,
   "eqNumInitial": 0
  }
 },
 "nbformat": 4,
 "nbformat_minor": 0
}
