{
 "cells": [
  {
   "cell_type": "markdown",
   "metadata": {
    "run_control": {
     "frozen": false,
     "read_only": false
    }
   },
   "source": [
    "Lehenengo zatia (2016-11-15)\n",
    "\n",
    "# Oinarrizko ekuazioaren eraikuntza\n",
    "\n",
    "## Zenbait ariketa, adibide\n",
    "\n",
    "\n",
    "\n",
    "\n",
    " \n",
    "\n",
    " \n",
    " "
   ]
  },
  {
   "cell_type": "markdown",
   "metadata": {},
   "source": [
    "\n",
    "\n",
    "\n",
    "Kontuz ibili behar da oinarrizko ekuazioa eraiki behar denean egoera-ekuazioetatik abiatuta.  \n",
    "\n",
    "Egoera-ekuazioek *esango* digute oinarrizko ekuazioaren zer forma, energetikoa edo entropikoa, lortu(behar)ko dugun.  \n",
    "\n",
    "Beraz, ondo erreparatu egoera-ekuazioetan agartzen diren aldagai naturalei, hortxe baitago gakoa."
   ]
  },
  {
   "cell_type": "markdown",
   "metadata": {},
   "source": [
    "## 1. Ariketa\n",
    "\n",
    "$$T = 3\\,A\\,\\frac{s^{2}}{v}$$\n",
    "\n",
    "$$p = A\\,\\frac{s^{3}}{v^{2}}$$ \n",
    "\n"
   ]
  },
  {
   "cell_type": "markdown",
   "metadata": {},
   "source": [
    "## 2. Ariketa\n",
    "\n",
    "\n",
    "$$ U = P\\,V $$  \n",
    "\n",
    "$$ P = B\\,T^{2}$$ \n",
    "\n"
   ]
  },
  {
   "cell_type": "markdown",
   "metadata": {},
   "source": [
    "## 3. Ariketa\n",
    "\n",
    "\n",
    "$$ u = \\frac{3}{2}\\, p\\,v$$  \n",
    "\n",
    "$$ v^{\\frac{1}{2}} = B\\,T\\,v^{\\frac{1}{3}}$$ \n",
    "\n"
   ]
  },
  {
   "cell_type": "markdown",
   "metadata": {},
   "source": [
    "## 4. Ariketa\n",
    "\n",
    "\n",
    "$$ U = \\frac{1}{2}\\, P\\,V$$  \n",
    "\n",
    "$$ T^{2} = A\\, \\frac{U^{\\frac{3}{2}}}{V\\,N^{\\frac{1}{2}}}$$ \n",
    "\n"
   ]
  },
  {
   "cell_type": "markdown",
   "metadata": {},
   "source": [
    "## 5. Ariketa\n",
    "\n",
    "\n",
    "Gas ideala\n"
   ]
  },
  {
   "cell_type": "markdown",
   "metadata": {},
   "source": [
    "## 6. Ariketa\n",
    "\n",
    "\n",
    "\n",
    "van der Waals-en fluidoa\n"
   ]
  },
  {
   "cell_type": "markdown",
   "metadata": {},
   "source": [
    "_____________________________\n",
    "_____________________________"
   ]
  },
  {
   "cell_type": "markdown",
   "metadata": {},
   "source": [
    "Bigarren zatia (2016-11-16)\n",
    "\n",
    "# Oinarrizko ekuazioaren propietateak"
   ]
  },
  {
   "cell_type": "markdown",
   "metadata": {},
   "source": [
    "## 7. Ariketa\n",
    "\n",
    "Zenbait sistema termodinamikori dagokion oinarrizko ekuazioa agertuko da ondoren. Dena den, horietariko bost, II, III eta IV postulatuetatik baten edo gehiagoren aurka dago; eta, ondorioz, fisikoki onartezinak dira. Adieraz itzazu aipatu bostak, eta betegabeko postulatua(k). $v_{0}$, $\\theta$ eta $R$ konstante positiboak dira. Onartu ezazu erro positibo erreala soilik, berredura frakzionarioa ageri den guztietan. (C 1.9.1)  \n",
    "\n",
    "  \n",
    "\n",
    "\n",
    "$$S = \\left( \\frac{R^2}{v_0 \\theta } \\right)^{\\frac{1}{3}} \\left[ {NVU} \\right]^{\\frac{1}{3}}$$\n",
    "\n",
    "$$S = \\left( \\frac{R}{\\theta^2} \\right)^{\\frac{1}{3}} \\left[ \\frac{NU}{V}\\right]^{\\frac{2}{3}}$$\n",
    "\n",
    "$$S = \\left( \\frac{R}{\\theta} \\right)^{\\frac{1}{2}} \\left[ NU - \\frac{R\\theta V^2 }{v_0^2 } \\right]^{\\frac{1}{2}}$$\n",
    "\n",
    "$$S = \\left( \\frac{R^2 \\theta }{v_0^3 } \\right)\\frac{V^3}{NU}$$\n",
    "\n",
    "$$S = \\left( \\frac{R^3 }{v_0\\theta^2} \\right)^{\\frac{1}{5}} \\left[ N^2 VU^2  \\right]^{\\frac{1}{5}}$$\n",
    "\n",
    "$$S = NR\\ln \\left( \\frac{UV}{N^2 R\\theta v_0 } \\right)$$\n",
    "\n",
    "$$S = \\left( \\frac{R}{\\theta } \\right)^{\\frac{1}{2}} \\left[ NU \\right]^{\\frac{1}{2}} \\exp \\left(  - \\frac{V^2}{2N^2 v_0^2} \\right)$$\n",
    "\n",
    "$$S = \\left( \\frac{R}{\\theta} \\right)^{\\frac{1}{2}} \\left[ NU \\right]^{\\frac{1}{2}} \\exp \\left(  - \\frac{UV}{NR\\theta v_0} \\right)$$\n",
    "\n",
    "$$U = \\left( \\frac{v_0\\theta }{R} \\right)\\frac{S^2}{V}\\exp \\left( \\frac{S}{NR} \\right)$$\n",
    "\n",
    "$$U = \\left( \\frac{R\\theta }{v_0} \\right) NV \\left( 1 + \\frac{S}{NR} \\right)\\exp \\left(  - \\frac{S}{NR} \\right)  $$      \n"
   ]
  },
  {
   "cell_type": "markdown",
   "metadata": {},
   "source": [
    "## 8. Ariketa\n",
    "\n",
    "Lortu $U$ barne-energia $S$, $V$ eta $N$ aldagaien funtzioan, aurrreko ariketako fisikoki onargarriak diren oinarrizko ekuazioen kasuetarako.  \n",
    "(C 1.9.2)\n",
    "\n",
    "\n",
    "\n"
   ]
  },
  {
   "cell_type": "markdown",
   "metadata": {},
   "source": [
    "## 9. Ariketa\n",
    "\n",
    "A sistemaren oinarrizko ekuazioa honako hau da:  \n",
    "\n",
    "$$S_A  = \\left( \\frac{R^2}{v_0 \\theta} \\right)^{\\frac{1}{3}} \\left[ N_A V_A U_A  \\right]^{\\frac{1}{3}}$$ \n",
    " \n",
    "B sistemarena, berriz:  \n",
    "\n",
    "$$S_B  = \\left( \\frac{R^2}{v_0 \\theta} \\right)^{\\frac{1}{3}} \\left[ N_B V_B U_B \\right]^{\\frac{1}{3}}$$\n",
    " \n",
    "Zein da A + B sistema konposatuari dagokion oinarrizko ekuazioa?   \n",
    "(C 1.9.3)\n",
    "\n",
    "\n",
    "\n"
   ]
  },
  {
   "cell_type": "markdown",
   "metadata": {},
   "source": [
    "## 10. Ariketa\n",
    "\n",
    "Onartu aurreko ariketan deskribatutako A eta B azpisistemen arteko bereizte-horma finkoa, iragaztezina eta energia trukatzen utziko duena dela. Modu berean, demagun A sistemaren bolumena 3 cm$^3$ dela, eta mol-kopurua 3. B sistemaren kasuan, bolumena 4 cm$^3$ da eta mol-kopurua, 2.   \n",
    "\n",
    "Sistema konposatuaren energia osoa 20 cal da. Adieraz ezazu entropia A sistemari dagokion $\\frac{U_{A}}{(U_{A}+U_{B})}$ energia-frakzioaren funtzioan.   \n",
    "\n",
    "Zenbatekoa da azpisistema bakoitzari dagokion barne-energia sistemak oreka lortu duen kasurako?   \n",
    "(C 1.9.4)\n",
    "\n",
    "\n",
    "\n"
   ]
  },
  {
   "cell_type": "markdown",
   "metadata": {},
   "source": [
    "## 11. Ariketa\n",
    "\n",
    "Lortu ondoko oinarrizko ekuazioko sistemari dagozkion hiru egoera-ekuazioak.   \n",
    "(C 2.2.1)\n",
    "\n",
    "$$U = \\left( \\frac{v_0 \\theta}{R^2} \\right)\\frac{S^3}{NV}$$\n",
    " \n",
    "\n"
   ]
  },
  {
   "cell_type": "markdown",
   "metadata": {},
   "source": [
    "## 12. Ariketa\n",
    "\n",
    "Lortu aurreko sistemari dagokion $\\mu$ potentzial kimikoa; adieraz ezazu emaitza $T$, $V$ eta $N$ parametroen funtzioan.   \n",
    "(C 2.2.2)\n",
    "\n",
    "\n"
   ]
  },
  {
   "cell_type": "markdown",
   "metadata": {},
   "source": [
    "## 13. Ariketa\n",
    "\n",
    "Lortu aurreko sistemaren kasuan, eta tenperatura finkoa denean, presioak bolumenarekiko duen mendekotasuna, hautazkoa den eskalako diagraman.  Irudikatu bi tenperatura desberdini dagozkion lerro isotermanoak eta adieraz ezazu zein den bietatik tenperatura handienari dagokiona.   \n",
    "(C 2.2.3)\n",
    "\n"
   ]
  },
  {
   "cell_type": "markdown",
   "metadata": {},
   "source": [
    "## 14. Ariketa\n",
    "\n",
    "Lortu ondoko oinarrizko ekuazioko sistemari dagozkion hiru egoera-ekuazioak.   \n",
    "(C 2.2.4)\n",
    "\n",
    "$$u = \\left( \\frac{\\theta }{R} \\right)s^2  - \\left( \\frac{R\\theta}{v_0^2} \\right)v^2$$\n",
    "\n",
    "\n"
   ]
  },
  {
   "cell_type": "markdown",
   "metadata": {},
   "source": [
    "## 15. Ariketa\n",
    "\n",
    "Lortu aurreko sistemari dagokion $\\mu$ potentzial kimikoa; adieraz ezazu emaitza $T$ eta $p$ parametroen funtzioan.  \n",
    "(C 2.2.5)\n",
    "\n",
    "\n"
   ]
  },
  {
   "cell_type": "markdown",
   "metadata": {},
   "source": [
    "## 16. Ariketa\n",
    "\n",
    "Lortu ondoko oinarrizko ekuazioko sistemari dagozkion hiru egoera-ekuazioak.  \n",
    "(C 2.2.6)\n",
    "\n",
    "$$u = \\left(\\frac{v_0\\theta}{R}\\right)\\frac{s^2}{v}\\exp \\left(\\frac{s}{R}\\right)$$\n",
    " \n",
    "\n"
   ]
  },
  {
   "cell_type": "markdown",
   "metadata": {},
   "source": [
    "## 17. Ariketa\n",
    "\n",
    "Adieraz ezazu eskematikoki, aurreko ariketako sistemaren kasuan, kuasiestatikoa den espantsio adiabatikoan zehar ($dS=0$), tenperaturak bolumenarekiko duen mendekotasuna.   \n",
    "(C 2.2.7)\n",
    "\n",
    "\n"
   ]
  },
  {
   "cell_type": "markdown",
   "metadata": {},
   "source": [
    "## 18. Ariketa\n",
    "\n",
    "Lortu, adierazpen entropikoan, ondoko oinarrizko ekuazioko sistemari dagozkion hiru egoera-ekuazioak.   \n",
    "(C 2.3.1)\n",
    "\n",
    "$$u = \\left( \\frac{v_o^{\\frac{1}{2}}\\theta}{R^{\\frac{3}{2}}} \\right)\\frac{s^{\\frac{5}{2}}}{v^{\\frac{1}{2}}}$$\n",
    " \n",
    "\n",
    "\n"
   ]
  },
  {
   "cell_type": "markdown",
   "metadata": {},
   "source": [
    "## 19. Ariketa\n",
    "\n",
    "Lortu aurreko sistemaren kasuan, eta presioa finkoa den kasuan, tenperaturak bolumenarekiko duen mendekotasuna, hautazkoa den eskalako diagraman. Irudikatu itzazu bi presio desberdini dagozkion lerro isobaroak eta adierazi zein den bietatik presio handienari dagokiona.   \n",
    "(C 2.3.2)\n",
    "\n",
    "\n"
   ]
  },
  {
   "cell_type": "markdown",
   "metadata": {},
   "source": [
    "## 20. Ariketa\n",
    "\n",
    "Lortu, adierazpen entropikoan, ondoko oinarrizko ekuazioko sistemari dagozkion hiru egoera-ekuazioak:   \n",
    "(C 2.3.3)\n",
    "\n",
    "$$u = \\left( \\frac{\\theta}{R} \\right)s^2 \\exp \\left( \\frac{v^2 }{v_0^2} \\right) $$\n",
    " \n",
    "\n",
    "Bi osagaiko sistemari dagokion oinarrizko ekuazioa ondokoa da,  \n",
    " \n",
    "$$S = NA + NR\\ln \\left( \\frac{U^{\\frac{3}{2}} V}{N^{\\frac{5}{2}}} \\right) - N_1 R\\ln \\left( \\frac{N_1}{N} \\right) - N_2 R\\ln \\left( \\frac{N_2}{N} \\right)$$\n",
    " \n",
    "$$N \\equiv N_1  + N_2$$\n",
    "  \n",
    "non $R=1.986$ cal/mol K den, eta $A$ finkatugabeko konstantea. Lehenengo osagaiarekiko iragazkorra baina bigarrenarekiko ez den mintz diatermanoak bi gunetan zatitu du 10 l-ko bolumeneko eta itxita dagoen zilindro zurruna. Lehenengo gunean ondoko parametroez ezaugarritutako lagina kokatu da: $N_{1}^{(1)}  = 0.5$, $N_{2}^{(1)}  = 0.75$, $V^{(1)}  = 5$ l eta $T^{(1)}  = 300$ K. Bigarrenean, berriz, ondokoen bidez: $N_{1}^{(2)}  = 1$, $N_{2}^{(2)}  = 0.5$, $V^{(2)}  = 5$ l eta $T^{(2)}  = 250$ K. Oreka lortutakoan, zein dira $N_{1}^{(1)}$, $N_{1}^{(2)}$, $T$, $p^{(1)}$ eta $p^{(2)}$ parametroen balioak?   \n",
    "(C 2.8.1)\n",
    "\n",
    "\n",
    "He gasa duen gordailuak 1000 l-ko bolumenekoa da. Gasa 0.5 atm-n eta 20 $^{\\circ}$C-ko tenperaraturan dago. Bolumen berdineko bigarren gordailuan dagoen He gasa 1 atm-n eta 80 $^{\\circ}$C-ko tenperaturan dago. Gordailu biak loturik dituen balbula ireki da. Demagun gasa monoatomikoa eta ideala dela, eta gordailuen hormak finkoak eta adiabatikoak. Lortu sistemari dagozkion amaierako tenperatura eta presioa. (Kontura zaitez energia osoa konstantea dela.)   \n",
    "(C 3.4.4)\n",
    "\n",
    "\n",
    "\n"
   ]
  },
  {
   "cell_type": "markdown",
   "metadata": {},
   "source": [
    "## 21. Ariketa\n",
    "\n",
    "Bi sistemari dagozkion egoera-ekuazioak ondokoak dira,\n",
    "\n",
    "$$\\frac{1}{T^{(1)}} = \\frac{3}{2}R\\frac{N^{(1)}}{U^{(1)}}$$\n",
    "\n",
    "$$\\frac{1}{T^{(2)}} = \\frac{5}{2}R\\frac{N^{(2)}}{U^{(2)}}$$\n",
    "  \n",
    "non $R=1.986$ cal/mol K balioko konstantea den. Lehenengo sistemaren mol-kopurua $N^{(1)}  = 2$ da, eta bigarrenarena $N^{(2)}  = 3$. Sistema horiek diatermanoa den bereizte-hormak banatu ditu. Sistema konposatuaren energia 6000 cal da. Oreka lortutakoan, zenbatekoa da sistema bakoitzari dagokion barne-energia?   \n",
    "(C 2.6.3)\n",
    "\n"
   ]
  },
  {
   "cell_type": "markdown",
   "metadata": {},
   "source": [
    "## 22. Ariketa\n",
    "\n",
    "Aurreko ariketako azpisistemak, diatermanoa den bereizte-hormaren bidez banatuta daude. Mol kopuruen balioak ondokoak dira: $N^{(1)}  = 2$ eta $N^{(2)}  = 3$. Hasierako tenperaturak $T^{(1)}  = 250$ K eta $T^{(2)}  = 350$ K dira. Oreka lortutakoan, zein dira $U^{(1)}$ eta $U^{(2)}$ parametroen balioak ? Zein da oreka-tenperatura?   \n",
    "(C 2.6.4)\n",
    "\n",
    "\n",
    "\n"
   ]
  },
  {
   "cell_type": "markdown",
   "metadata": {},
   "source": [
    "## 23. Ariketa\n",
    "\n",
    "Bi sistemari dagozkion egoera-ekuazioak ondokoak dira,  \n",
    "\n",
    "$$\\left(\\frac{1}{T}\\right)^{(1)} = \\frac{3}{2}R\\frac{N^{(1)}}{U^{(1)}}$$\n",
    "$$\\left(\\frac{p}{T}\\right)^{(1)} = R\\frac{N^{(1)}}{V^{(1)}}$$\n",
    "\n",
    "eta  \n",
    "\n",
    " \n",
    "$$\\left(\\frac{1}{T}\\right)^{(2)} = \\frac{5}{2}R\\frac{N^{(2)}}{U^{(2)}}$$\n",
    "$$\\left(\\frac{p}{T}\\right)^{(2)} = R\\frac{N^{(2)}}{V^{(2)}}$$\n",
    "\n",
    "\n",
    "non $R=1.986$ cal/mol K den. $N^{(1)}  = 0.5$ eta $N^{(2)}  = 0.75$ dira. Sistema biak isolaturiko zilindroaren barnean daude, higikorra den pistoi isotermanoak banandurik. Hasierako tenperaturak $T^{(1)}  = 200$ K eta $T^{(2)}  = 300$ K dira, eta bolumen osoa 20 l. Oreka lortutakoan, zein dira sistema bakoitzari dagozkion energia eta bolumena? Zein dira presioa eta tenperatura?    \n",
    "(C 2.7.1)"
   ]
  }
 ],
 "metadata": {
  "anaconda-cloud": {},
  "kernelspec": {
   "display_name": "Python [Root]",
   "language": "python",
   "name": "Python [Root]"
  },
  "language_info": {
   "codemirror_mode": {
    "name": "ipython",
    "version": 2
   },
   "file_extension": ".py",
   "mimetype": "text/x-python",
   "name": "python",
   "nbconvert_exporter": "python",
   "pygments_lexer": "ipython2",
   "version": "2.7.12"
  },
  "latex_envs": {
   "bibliofile": "biblio.bib",
   "cite_by": "apalike",
   "current_citInitial": 1,
   "eqLabelWithNumbers": true,
   "eqNumInitial": 0
  }
 },
 "nbformat": 4,
 "nbformat_minor": 0
}
