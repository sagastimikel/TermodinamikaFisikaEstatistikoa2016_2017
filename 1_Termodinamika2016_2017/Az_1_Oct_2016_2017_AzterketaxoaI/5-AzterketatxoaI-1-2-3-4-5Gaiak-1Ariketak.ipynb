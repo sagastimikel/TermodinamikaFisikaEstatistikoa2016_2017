{
 "cells": [
  {
   "cell_type": "markdown",
   "metadata": {},
   "source": [
    "# Azterketatxoa 1\n",
    "### Gaiak: 1, 2, 3, 4 eta 5\n",
    "\n",
    "___________________\n",
    "    kualitatiboak\n",
    "1. Nola kalkulatuko zenuke bolumen konstanteko gas-termometroa erabiliz lortutako honako datu hauetatik finkatutako egoera termikoaren tenperaturaren balioa, tenperatura-eskala absolutuan?\n",
    ">Azken balio lortuz gero, dena ondo izango duzu.  \n",
    "Dena dela, inportantea da tenperatura lortzeko prozedura argi eta garbi deskribatzea, nondik norako denak argituz.\n",
    "\n",
    "presioa (mm Hg) |  |   |   |   |\n",
    ":---:| :---: | :---: | :---: | :---:\n",
    "$P_{ph}$  | 1000.0 | 750.0 | 500.0 | 250.0\n",
    "$P$      | 1535.3 | 1151.6 | 767.82 | 383.95\n",
    "\n",
    "- - - - -\n",
    "2. Honako irudi honetan agertzen da sistema koposatu bat.  \n",
    "Esan zenbat askatasun-gradu dituen sistema konposatuak, a), b), c) eta d) etiketez adierazitako bereizte-hormak jarriko baditugu irudiko 1, 2 eta 3 bereizte-hormak ordezkatuz.\n",
    "\n",
    "<img src=\"5-AzterketatxoaI-1-2-3-4-5Gaiakirudia.jpg\"; width=300;>\n",
    "\n",
    "    kalkuluak...  \n",
    "    \n",
    "$$ \\left( p + a\\,\\frac{ n^{2}}{V^{2}} \\right) ( V - b) = n\\, R\\, T  $$  \n",
    "    \n",
    "$$ \\left( p + \\frac{a\\, }{v^{2}} \\right) ( v - b) =  R\\, T  $$  \n",
    "    \n",
    "\n",
    "3. *van der Waals*-en egoera-ekuazioari segitzen dion jariakinaren kasuan,\n",
    "lortu prozesu adiabatiko kuasiestatikoen adierazpena $T/V$ diagraman.\n",
    "<p></p>\n",
    "<p></p>\n",
    "<p></p>\n",
    "4. *van der Wals*-en egoera-ekuazioari segitzen dion jariakinaren kasuan,\n",
    "lortu zer forma duen barne-energiak, $(T, V)$ aldagaiak independentetzat hartuta.\n",
    "\n"
   ]
  }
 ],
 "metadata": {
  "anaconda-cloud": {},
  "kernelspec": {
   "display_name": "Python [Root]",
   "language": "python",
   "name": "Python [Root]"
  },
  "language_info": {
   "codemirror_mode": {
    "name": "ipython",
    "version": 2
   },
   "file_extension": ".py",
   "mimetype": "text/x-python",
   "name": "python",
   "nbconvert_exporter": "python",
   "pygments_lexer": "ipython2",
   "version": "2.7.12"
  },
  "latex_envs": {
   "bibliofile": "biblio.bib",
   "cite_by": "apalike",
   "current_citInitial": 1,
   "eqLabelWithNumbers": true,
   "eqNumInitial": 0
  }
 },
 "nbformat": 4,
 "nbformat_minor": 0
}
